{
 "cells": [
  {
   "cell_type": "markdown",
   "id": "77213839",
   "metadata": {},
   "source": [
    "Move Zeroes\n",
    "\n",
    "Given an integer array nums, move all 0's to the end of it while maintaining the relative order of the non-zero elements.\n",
    "\n",
    "Note that you must do this in-place without making a copy of the array.\n",
    "\n",
    "Example 1:\n",
    "\n",
    "Input: nums = [0,1,0,3,12]\n",
    "\n",
    "Output: [1,3,12,0,0]\n",
    "\n",
    "Example 2:\n",
    "\n",
    "Input: nums = [0]\n",
    "\n",
    "Output: [0]\n",
    "\n",
    "Constraints:\n",
    "\n",
    "a. 1 <= nums.length <= 10^4\n",
    "\n",
    "b. -2^31 <= nums[i] <= 2^31 - 1\n"
   ]
  },
  {
   "cell_type": "code",
   "execution_count": 13,
   "id": "0f6e9901",
   "metadata": {},
   "outputs": [],
   "source": [
    "def move_zeroes(nums):\n",
    "    \n",
    "    n = len(nums)\n",
    "                # Initialize two pointers: one for iterating the array and another for placing non-zero elements.\n",
    "    last_non_zero = 0\n",
    "\n",
    "              # Iterate through the array\n",
    "    for i in range(n):\n",
    "                # If the current element is non-zero, place it at the last_non_zero index.\n",
    "        if nums[i] != 0:\n",
    "            nums[last_non_zero] = nums[i]\n",
    "            last_non_zero += 1\n",
    "\n",
    "         # Fill the remaining positions with zeroes\n",
    "    for i in range(last_non_zero, n):\n",
    "        nums[i] = 0\n",
    "\n",
    "    return nums\n"
   ]
  },
  {
   "cell_type": "code",
   "execution_count": 14,
   "id": "5539dbc7",
   "metadata": {},
   "outputs": [
    {
     "name": "stdout",
     "output_type": "stream",
     "text": [
      "[1, 3, 12, 0, 0]\n"
     ]
    }
   ],
   "source": [
    "nums = [0, 1, 0, 3, 12]\n",
    "print(move_zeroes(nums))"
   ]
  },
  {
   "cell_type": "code",
   "execution_count": 15,
   "id": "deb2b76b",
   "metadata": {},
   "outputs": [
    {
     "name": "stdout",
     "output_type": "stream",
     "text": [
      "[0]\n"
     ]
    }
   ],
   "source": [
    "nums = [0]\n",
    "print(move_zeroes(nums))"
   ]
  },
  {
   "cell_type": "code",
   "execution_count": 16,
   "id": "76cfad94",
   "metadata": {},
   "outputs": [
    {
     "name": "stdout",
     "output_type": "stream",
     "text": [
      "[2, 5, 67, 34, 6, 3, 7, 0, 0, 0]\n"
     ]
    }
   ],
   "source": [
    "nums = [2,5,67,0,34,6,0,3,7,0]\n",
    "print(move_zeroes(nums))"
   ]
  },
  {
   "cell_type": "markdown",
   "id": "bcf9e588",
   "metadata": {},
   "source": [
    "### First Unique Character in a String\n",
    "\n",
    "Given a string s, find the first non-repeating character in it and return its index. If it does not exist, return -1.\n",
    "\n",
    "Example 1:\n",
    "\n",
    "Input: s = \"leetcode\"\n",
    "\n",
    "Output: 0\n",
    "\n",
    "Example 2:\n",
    "\n",
    "Input: s = \"loveleetcode\"\n",
    "\n",
    "Output: 2\n",
    "\n",
    "Example 3:\n",
    "\n",
    "Input: s = \"aabb\"\n",
    "\n",
    "Output: -1\n",
    "\n",
    "Constraints:\n",
    "\n",
    "a. 1 <= s.length <= 10^5\n",
    "\n",
    "b. s consists of only lowercase English letters."
   ]
  },
  {
   "cell_type": "code",
   "execution_count": 22,
   "id": "13267616",
   "metadata": {},
   "outputs": [],
   "source": [
    "def first_Uniq_Char(s):\n",
    "        # Create a dictionary to store the frequency of characters\n",
    "    char_Freq = {}\n",
    "    \n",
    "          # Count the frequency of each character\n",
    "    for char in s:\n",
    "        char_Freq[char] = char_Freq.get(char, 0) + 1\n",
    "    \n",
    "        # Find the first character with a frequency of 1\n",
    "    for i in range(len(s)):\n",
    "        if char_Freq[s[i]] == 1:\n",
    "            return i\n",
    "    \n",
    "    return -1\n"
   ]
  },
  {
   "cell_type": "code",
   "execution_count": 27,
   "id": "24f0f0fc",
   "metadata": {},
   "outputs": [
    {
     "name": "stdout",
     "output_type": "stream",
     "text": [
      "0\n"
     ]
    }
   ],
   "source": [
    "s = \"leetcode\"\n",
    "print(first_Uniq_Char(s))"
   ]
  },
  {
   "cell_type": "code",
   "execution_count": 28,
   "id": "f155cd7a",
   "metadata": {},
   "outputs": [
    {
     "name": "stdout",
     "output_type": "stream",
     "text": [
      "2\n"
     ]
    }
   ],
   "source": [
    "s = \"loveleetcode\"\n",
    "print(first_Uniq_Char(s))"
   ]
  },
  {
   "cell_type": "code",
   "execution_count": 29,
   "id": "7e3bf44c",
   "metadata": {},
   "outputs": [
    {
     "name": "stdout",
     "output_type": "stream",
     "text": [
      "-1\n"
     ]
    }
   ],
   "source": [
    "s = \"aabb\"\n",
    "print(first_Uniq_Char(s))"
   ]
  },
  {
   "cell_type": "code",
   "execution_count": 30,
   "id": "0103dcf6",
   "metadata": {},
   "outputs": [
    {
     "name": "stdout",
     "output_type": "stream",
     "text": [
      "4\n"
     ]
    }
   ],
   "source": [
    "s = \"gloomingflowers\"\n",
    "print(first_Uniq_Char(s))"
   ]
  },
  {
   "cell_type": "code",
   "execution_count": null,
   "id": "87a579ef",
   "metadata": {},
   "outputs": [],
   "source": []
  }
 ],
 "metadata": {
  "kernelspec": {
   "display_name": "Python 3 (ipykernel)",
   "language": "python",
   "name": "python3"
  },
  "language_info": {
   "codemirror_mode": {
    "name": "ipython",
    "version": 3
   },
   "file_extension": ".py",
   "mimetype": "text/x-python",
   "name": "python",
   "nbconvert_exporter": "python",
   "pygments_lexer": "ipython3",
   "version": "3.10.7"
  }
 },
 "nbformat": 4,
 "nbformat_minor": 5
}
